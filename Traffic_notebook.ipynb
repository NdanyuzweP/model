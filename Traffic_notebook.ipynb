{
  "nbformat": 4,
  "nbformat_minor": 0,
  "metadata": {
    "colab": {
      "provenance": []
    },
    "kernelspec": {
      "name": "python3",
      "display_name": "Python 3"
    },
    "language_info": {
      "name": "python"
    }
  },
  "cells": [
    {
      "cell_type": "code",
      "execution_count": 2,
      "metadata": {
        "colab": {
          "base_uri": "https://localhost:8080/"
        },
        "id": "GZeDqdyxTYGZ",
        "outputId": "d5ed2e41-2ea7-4d6f-8147-4feb405c6446"
      },
      "outputs": [
        {
          "output_type": "stream",
          "name": "stdout",
          "text": [
            "Dataset loaded successfully. First few rows:\n",
            "    Time Day_of_Week Public_Holiday  Road_Name Proximity_to_POI Average_Speed  \\\n",
            "0  00:00   Wednesday            Yes    KN 1 Rd         Bus Park          40.5   \n",
            "1  01:00   Wednesday            Yes  KG 11 Ave           Market          42.3   \n",
            "2  08:00   Wednesday            Yes   KK 15 Rd           School          24.8   \n",
            "3  09:00   Wednesday            Yes        RN1       Commercial          28.2   \n",
            "4  17:00   Wednesday            Yes    KN 3 Rd           School          20.7   \n",
            "\n",
            "  Population_Density Rainfall Congestion_Level  \n",
            "0               High       No              Low  \n",
            "1             Medium       No              Low  \n",
            "2             Medium      Yes             High  \n",
            "3               High       No           Medium  \n",
            "4             Medium       No             High  \n",
            "Missing values per column:\n",
            "Time                  0\n",
            "Day_of_Week           0\n",
            "Public_Holiday        0\n",
            "Road_Name             0\n",
            "Proximity_to_POI      0\n",
            "Average_Speed         0\n",
            "Population_Density    1\n",
            "Rainfall              1\n",
            "Congestion_Level      1\n",
            "dtype: int64\n"
          ]
        },
        {
          "output_type": "stream",
          "name": "stderr",
          "text": [
            "/tmp/ipython-input-2-2660593875.py:25: FutureWarning: A value is trying to be set on a copy of a DataFrame or Series through chained assignment using an inplace method.\n",
            "The behavior will change in pandas 3.0. This inplace method will never work because the intermediate object on which we are setting values always behaves as a copy.\n",
            "\n",
            "For example, when doing 'df[col].method(value, inplace=True)', try using 'df.method({col: value}, inplace=True)' or df[col] = df[col].method(value) instead, to perform the operation inplace on the original object.\n",
            "\n",
            "\n",
            "  df[col].fillna(mode_value, inplace=True)\n"
          ]
        }
      ],
      "source": [
        "import pandas as pd\n",
        "import numpy as np\n",
        "from sklearn.preprocessing import LabelEncoder\n",
        "from sklearn.model_selection import train_test_split\n",
        "from sklearn.ensemble import RandomForestClassifier\n",
        "from sklearn.metrics import accuracy_score, classification_report\n",
        "\n",
        "# Load the CSV\n",
        "try:\n",
        "    df = pd.read_csv('kigali_traffic_dataset.csv', delimiter=',', engine='python')\n",
        "    print(\"Dataset loaded successfully. First few rows:\")\n",
        "    print(df.head())\n",
        "except pd.errors.ParserError as e:\n",
        "    print(\"ParserError:\", e)\n",
        "    raise Exception(\"Check CSV for formatting issues (e.g., missing commas, incomplete rows).\")\n",
        "\n",
        "# Check for missing values\n",
        "print(\"Missing values per column:\")\n",
        "print(df.isnull().sum())\n",
        "\n",
        "# Handle missing values (if any)\n",
        "for col in ['Day_of_Week', 'Public_Holiday', 'Road_Name', 'Population_Density', 'Rainfall', 'Congestion_Level']:\n",
        "    if df[col].isnull().any():\n",
        "        mode_value = df[col].mode()[0]\n",
        "        df[col].fillna(mode_value, inplace=True)\n",
        "\n",
        "# Drop unwanted columns\n",
        "df = df.drop(['Average_Speed', 'Proximity_to_POI'], axis=1)\n",
        "\n",
        "# Convert Time to Hour\n",
        "df['Hour'] = pd.to_datetime(df['Time'], format='%H:%M').dt.hour\n",
        "df = df.drop('Time', axis=1)\n",
        "\n",
        "# Encode categorical variables\n",
        "categorical_cols = ['Day_of_Week', 'Public_Holiday', 'Road_Name', 'Population_Density', 'Rainfall']\n",
        "le_dict = {}\n",
        "for col in categorical_cols:\n",
        "    le_dict[col] = LabelEncoder()\n",
        "    df[col] = df[col].astype(str)  # Convert to string to handle any None\n",
        "    df[col] = le_dict[col].fit_transform(df[col])\n",
        "\n",
        "# Encode target variable\n",
        "le_dict['Congestion_Level'] = LabelEncoder()\n",
        "df['Congestion_Level'] = le_dict['Congestion_Level'].fit_transform(df['Congestion_Level'])\n",
        "\n",
        "# Split features and target\n",
        "X = df.drop('Congestion_Level', axis=1)\n",
        "y = df['Congestion_Level']\n",
        "\n",
        "# Split into training and testing sets\n",
        "X_train, X_test, y_train, y_test = train_test_split(X, y, test_size=0.2, random_state=42)"
      ]
    },
    {
      "cell_type": "code",
      "source": [
        "# Train the model\n",
        "model = RandomForestClassifier(n_estimators=100, random_state=42)\n",
        "model.fit(X_train, y_train)\n",
        "\n",
        "# Evaluate the model\n",
        "y_pred = model.predict(X_test)\n",
        "print(\"Accuracy:\", accuracy_score(y_test, y_pred))\n",
        "\n",
        "# Convert numerical labels to strings for classification report\n",
        "y_test_str = le_dict['Congestion_Level'].inverse_transform(y_test)\n",
        "y_pred_str = le_dict['Congestion_Level'].inverse_transform(y_pred)\n",
        "print(\"Classification Report:\")\n",
        "print(classification_report(y_test_str, y_pred_str, target_names=le_dict['Congestion_Level'].classes_))"
      ],
      "metadata": {
        "colab": {
          "base_uri": "https://localhost:8080/"
        },
        "id": "Z51cmdNnTgrz",
        "outputId": "dfab754e-930f-44b1-e329-f4b256be0b98"
      },
      "execution_count": 4,
      "outputs": [
        {
          "output_type": "stream",
          "name": "stdout",
          "text": [
            "Accuracy: 0.9777777777777777\n",
            "Classification Report:\n",
            "              precision    recall  f1-score   support\n",
            "\n",
            "        High       0.98      0.96      0.97        52\n",
            "         Low       1.00      1.00      1.00        11\n",
            "      Medium       0.97      0.99      0.98        72\n",
            "\n",
            "    accuracy                           0.98       135\n",
            "   macro avg       0.98      0.98      0.98       135\n",
            "weighted avg       0.98      0.98      0.98       135\n",
            "\n"
          ]
        }
      ]
    },
    {
      "cell_type": "code",
      "source": [
        "# Create user input\n",
        "user_input = pd.DataFrame({\n",
        "    'Hour': [2],  # 02:15 AM rounds to 2\n",
        "    'Day_of_Week': ['Monday'],\n",
        "    'Public_Holiday': ['No'],\n",
        "    'Road_Name': ['KN 1 Rd'],\n",
        "    'Population_Density': ['High'],\n",
        "    'Rainfall': ['No']\n",
        "})\n",
        "\n",
        "# Encode user input\n",
        "categorical_cols_input = ['Day_of_Week', 'Public_Holiday', 'Road_Name', 'Population_Density', 'Rainfall']\n",
        "for col in categorical_cols_input:\n",
        "    user_input[col] = user_input[col].astype(str)\n",
        "    # Ensure input values are valid\n",
        "    if not all(user_input[col].isin(le_dict[col].classes_)):\n",
        "        raise ValueError(f\"Invalid value in {col}. Must be one of {le_dict[col].classes_}\")\n",
        "    user_input[col] = le_dict[col].transform(user_input[col])\n",
        "\n",
        "# Reorder columns to match the training data\n",
        "user_input = user_input[X_train.columns]\n",
        "\n",
        "# Predict\n",
        "prediction = model.predict(user_input)\n",
        "predicted_congestion = le_dict['Congestion_Level'].inverse_transform(prediction)[0]\n",
        "print(\"Predicted Congestion Level:\", predicted_congestion)"
      ],
      "metadata": {
        "colab": {
          "base_uri": "https://localhost:8080/"
        },
        "id": "wVwG5QLiVpgC",
        "outputId": "314dcb57-300b-4674-dbc3-303f1b0998da"
      },
      "execution_count": 7,
      "outputs": [
        {
          "output_type": "stream",
          "name": "stdout",
          "text": [
            "Predicted Congestion Level: Low\n"
          ]
        }
      ]
    },
    {
      "cell_type": "code",
      "source": [
        "import matplotlib.pyplot as plt\n",
        "df.groupby('Hour')['Congestion_Level'].value_counts(normalize=True).unstack().plot(kind='bar', stacked=True)\n",
        "plt.title('Congestion Level Distribution by Hour in Kigali')\n",
        "plt.xlabel('Hour')\n",
        "plt.ylabel('Proportion')\n",
        "plt.show()"
      ],
      "metadata": {
        "colab": {
          "base_uri": "https://localhost:8080/",
          "height": 475
        },
        "id": "41M_D22SWcNF",
        "outputId": "b77307bc-25db-475b-bc45-60f4b8f67f68"
      },
      "execution_count": 8,
      "outputs": [
        {
          "output_type": "display_data",
          "data": {
            "text/plain": [
              "<Figure size 640x480 with 1 Axes>"
            ],
            "image/png": "[encoded data removed]"
          },
          "metadata": {}
        }
      ]
    },
    {
      "cell_type": "code",
      "source": [
        "# Save the model and encoders\n",
        "import joblib\n",
        "\n",
        "joblib.dump(model, 'traffic_model.pkl')\n",
        "joblib.dump(le_dict, 'label_encoders.pkl')\n",
        "print(\"Model and encoders saved as 'traffic_model.pkl' and 'label_encoders.pkl'\")"
      ],
      "metadata": {
        "colab": {
          "base_uri": "https://localhost:8080/"
        },
        "id": "qyunbH1H2xHH",
        "outputId": "d74a5310-9400-473b-916c-4bbb20c96c82"
      },
      "execution_count": 10,
      "outputs": [
        {
          "output_type": "stream",
          "name": "stdout",
          "text": [
            "Model and encoders saved as 'traffic_model.pkl' and 'label_encoders.pkl'\n"
          ]
        }
      ]
    }
  ]
}